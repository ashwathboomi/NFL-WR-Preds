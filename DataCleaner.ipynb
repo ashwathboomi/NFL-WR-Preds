{
 "cells": [
  {
   "cell_type": "code",
   "execution_count": 2,
   "id": "f4562b38-9beb-498c-b602-2ee73c479856",
   "metadata": {},
   "outputs": [],
   "source": [
    "import os\n",
    "from bs4 import BeautifulSoup\n",
    "from playwright.async_api import async_playwright, TimeoutError as PlaywrightTimeout \n",
    "import time\n",
    "import pandas as pd"
   ]
  },
  {
   "cell_type": "code",
   "execution_count": 51,
   "id": "6b80791b-10e4-4fc1-9bf4-fc0efe419c01",
   "metadata": {},
   "outputs": [],
   "source": [
    "Pass = ['2013Pass.csv','2014Pass.csv','2015Pass.csv','2016Pass.csv','2017Pass.csv','2018Pass.csv','2019Pass.csv','2020Pass.csv','2021Pass.csv','2022Pass.csv']\n",
    "for csv in Pass:\n",
    "    df = pd.read_csv(csv)\n",
    "    for i in range(3):\n",
    "        del df[df.columns.values[-1]]\n",
    "    df.pop('Rk')\n",
    "    df.pop('G')\n",
    "    df.pop('Sk')\n",
    "    df.pop('Sk%')\n",
    "    df.pop('Lng')\n",
    "    df.pop('TD%')\n",
    "    df.pop('Int%')\n",
    "    df.rename(columns={'Yds':'P_Yds'}, inplace = True)\n",
    "    df.rename(columns={'TD':'P_TD'}, inplace = True)\n",
    "    os.remove(csv)\n",
    "    df.to_csv(csv)"
   ]
  },
  {
   "cell_type": "code",
   "execution_count": 56,
   "id": "31e4e86f-af58-4dc1-91a8-ba07d490298f",
   "metadata": {},
   "outputs": [],
   "source": [
    "Rec = [\"2013Rec.csv\",\"2014Rec.csv\",\"2015Rec.csv\",\"2016Rec.csv\",\"2017Rec.csv\",\"2018Rec.csv\",\"2019Rec.csv\",\"2020Rec.csv\",\"2021Rec.csv\",\"2022Rec.csv\"]\n",
    "for csv in Rec:\n",
    "    df = pd.read_csv(csv)\n",
    "    df.pop('Rk')\n",
    "    df.pop('GS')\n",
    "    df.pop('Fmb')\n",
    "    df.pop('Lng')\n",
    "    df.pop('1D')\n",
    "    df.drop(df[df['Pos'] != 'WR'].index, inplace = True)\n",
    "    df['Player'] = df['Player'].str.replace('\\W','',regex = True)\n",
    "    os.remove(csv)\n",
    "    df.to_csv(csv)"
   ]
  },
  {
   "cell_type": "code",
   "execution_count": 55,
   "id": "0d8c69a6-f970-4e34-b666-c46938c13040",
   "metadata": {},
   "outputs": [],
   "source": [
    "Rec = [\"2013Rec.csv\",\"2014Rec.csv\",\"2015Rec.csv\",\"2016Rec.csv\",\"2017Rec.csv\",\"2018Rec.csv\",\"2019Rec.csv\",\"2020Rec.csv\",\"2021Rec.csv\",\"2022Rec.csv\"]\n",
    "for csv in Rec:\n",
    "    df = pd.read_csv(csv)\n",
    "    df['Tm'] = df['Tm'].replace({'OAK':'LVR'})\n",
    "    df['Tm'] = df['Tm'].replace({'SDG':'LAC'})\n",
    "    df['Tm'] = df['Tm'].replace({'STL':'LAR'})\n",
    "    os.remove(csv)\n",
    "    df.to_csv(csv)\n",
    "        "
   ]
  },
  {
   "cell_type": "code",
   "execution_count": 54,
   "id": "008da4c4-ea23-4ef3-843c-54032a577d14",
   "metadata": {},
   "outputs": [],
   "source": [
    "Rec = [\"2018Rec.csv\",\"2019Rec.csv\",\"2020Rec.csv\",\"2021Rec.csv\",\"2022Rec.csv\"]\n",
    "for csv in Rec:\n",
    "    df = pd.read_csv(csv)\n",
    "    df.pop('Unnamed: 0')\n",
    "    os.remove(csv)\n",
    "    df.to_csv(csv)\n",
    "    "
   ]
  },
  {
   "cell_type": "code",
   "execution_count": 3,
   "id": "6f07a0fd-fe71-45ff-bbbf-a3f4d0bd2c55",
   "metadata": {},
   "outputs": [],
   "source": [
    "Yrs = ['2013','2014','2015','2016','2017','2018','2019','2020','2021','2022']\n",
    "for csv in Yrs:\n",
    "    dfr = pd.read_csv(csv+'Rec.csv')\n",
    "    dfp = pd.read_csv(csv+'Pass.csv')\n",
    "    dfm = dfr.merge(dfp, on='Tm', how='outer')\n",
    "    dfm.to_csv(csv+'.csv')"
   ]
  },
  {
   "cell_type": "code",
   "execution_count": 4,
   "id": "ddeca375-d72f-4cb5-bce7-db2c16d19277",
   "metadata": {},
   "outputs": [],
   "source": [
    "Yrs = ['2013','2014','2015','2016','2017','2018','2019','2020','2021','2022']\n",
    "for csv in Yrs:\n",
    "    df = pd.read_csv(csv+'.csv')\n",
    "    df.drop(df[df['Tm'] == '2TM'].index, inplace = True)\n",
    "    if 'Unnamed: 0.1' in df.columns:\n",
    "        df.pop('Unnamed: 0.1')\n",
    "    if 'Unnamed: 0' in df.columns:\n",
    "        df.pop('Unnamed: 0')\n",
    "    if 'Unnamed: 0.2' in df.columns:\n",
    "        df.pop('Unnamed: 0.2')\n",
    "    if 'Unnamed: 0_x' in df.columns:\n",
    "        df.pop('Unnamed: 0_x')\n",
    "    if 'Unnamed: 0_y' in df.columns:\n",
    "        df.pop('Unnamed: 0_y')\n",
    "    os.remove(csv+'.csv')\n",
    "    df.to_csv(csv+'.csv')\n",
    "    "
   ]
  },
  {
   "cell_type": "code",
   "execution_count": 5,
   "id": "d3a6bb6e-0112-4101-8f49-672b708e0adb",
   "metadata": {},
   "outputs": [],
   "source": [
    "Yrs = ['2013','2014','2015','2016','2017','2018','2019','2020','2021','2022']\n",
    "for csv in Yrs:\n",
    "    df = pd.read_csv(csv+'.csv')\n",
    "    df['Year'] = csv\n",
    "    os.remove(csv+'.csv')\n",
    "    df.to_csv(csv+'.csv')\n",
    "    "
   ]
  },
  {
   "cell_type": "code",
   "execution_count": 5,
   "id": "5d4a80fd-fd47-41c4-be6c-983fdc92f42f",
   "metadata": {},
   "outputs": [],
   "source": [
    "Yrs = ['2013','2014','2015','2016','2017','2018','2019','2020','2021','2022']\n",
    "dfa = pd.concat([pd.read_csv(csv+'.csv') for csv in Yrs ])\n",
    "dfa.to_csv('Stats.csv')\n",
    "\n",
    "    "
   ]
  },
  {
   "cell_type": "code",
   "execution_count": 6,
   "id": "0fd0eea1-2627-4c7d-b3ac-3f50e4f8fbf4",
   "metadata": {},
   "outputs": [],
   "source": [
    "df = pd.read_csv('Stats.csv')\n",
    "df.sort_values(['Player-additional','Year'], axis=0, ascending=False, inplace=True)\n",
    "if 'Unnamed: 0.1_x' in df.columns:\n",
    "        df.pop('Unnamed: 0.1_x')\n",
    "if 'Unnamed: 0.1_y' in df.columns:\n",
    "        df.pop('Unnamed: 0.1_y')\n",
    "os.remove('Stats.csv')\n",
    "df.to_csv('Stats.csv')\n"
   ]
  },
  {
   "cell_type": "code",
   "execution_count": null,
   "id": "649e9d92-71ee-412b-b3de-d0d9107420e1",
   "metadata": {},
   "outputs": [],
   "source": []
  }
 ],
 "metadata": {
  "kernelspec": {
   "display_name": "Python 3 (ipykernel)",
   "language": "python",
   "name": "python3"
  },
  "language_info": {
   "codemirror_mode": {
    "name": "ipython",
    "version": 3
   },
   "file_extension": ".py",
   "mimetype": "text/x-python",
   "name": "python",
   "nbconvert_exporter": "python",
   "pygments_lexer": "ipython3",
   "version": "3.11.0"
  }
 },
 "nbformat": 4,
 "nbformat_minor": 5
}
