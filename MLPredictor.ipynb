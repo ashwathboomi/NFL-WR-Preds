{
 "cells": [
  {
   "cell_type": "code",
   "execution_count": 40,
   "id": "4ff1c07e-b2a9-4e09-bec8-246d0decf40c",
   "metadata": {},
   "outputs": [],
   "source": [
    "import os\n",
    "import pandas as pd\n",
    "import numpy as np\n",
    "import sklearn\n"
   ]
  },
  {
   "cell_type": "code",
   "execution_count": 161,
   "id": "17d92d47-3d6a-4ac7-8f2d-181922daab91",
   "metadata": {},
   "outputs": [],
   "source": [
    "stats = pd.read_csv('Stats.csv')\n",
    "if 'Unnamed: 0.1' in stats.columns:\n",
    "        stats.pop('Unnamed: 0.1')\n",
    "if 'Unnamed: 0' in stats.columns:\n",
    "        stats.pop('Unnamed: 0')\n",
    "if 'Unnamed: 0.2' in stats.columns:\n",
    "        stats.pop('Unnamed: 0.2')\n",
    "if 'Unnamed: 0.3' in stats.columns:\n",
    "        stats.pop('Unnamed: 0.3')\n",
    "stats.to_csv('Stats.csv')\n"
   ]
  },
  {
   "cell_type": "code",
   "execution_count": 162,
   "id": "370da805-6b42-467d-ac70-c9c0f42aeb1a",
   "metadata": {},
   "outputs": [],
   "source": [
    "stats = stats.dropna()\n",
    "stats = stats.groupby('Player-additional', group_keys=False).filter(lambda s: s.shape[0] > 3)"
   ]
  },
  {
   "cell_type": "code",
   "execution_count": 6,
   "id": "8b51cc43-5b8d-41c3-8332-0de2e3e52013",
   "metadata": {},
   "outputs": [
    {
     "name": "stdout",
     "output_type": "stream",
     "text": [
      "      Unnamed: 0.2  Unnamed: 0.1  Unnamed: 0            Player   Tm  Age Pos  \\\n",
      "0                0             0           0    BrandonZylstra  CAR   28  WR   \n",
      "1                2             2           2    BrandonZylstra  CAR   27  WR   \n",
      "2                1             1           1    BrandonZylstra  CAR   26  WR   \n",
      "3                3             3           3    BrandonZylstra  MIN   25  WR   \n",
      "5                5             5           5  OlamideZaccheaus  ATL   25  WR   \n",
      "...            ...           ...         ...               ...  ...  ...  ..   \n",
      "2057          2055          2055        2055      DavanteAdams  GNB   26  WR   \n",
      "2058          2059          2059        2059      DavanteAdams  GNB   25  WR   \n",
      "2059          2057          2057        2057      DavanteAdams  GNB   24  WR   \n",
      "2060          2060          2060        2060      DavanteAdams  GNB   23  WR   \n",
      "2061          2061          2061        2061      DavanteAdams  GNB   22  WR   \n",
      "\n",
      "       G    Tgt  Rec  ...  TD  Y/Tgt  R/G   Y/G  Player-additional    Cmp  \\\n",
      "0     13   25.0   18  ...   1   10.0  1.4  19.2           ZylsBr00  348.0   \n",
      "1     16    4.0    3  ...   0    8.8  0.2   2.2           ZylsBr00  373.0   \n",
      "2      8   12.0    8  ...   0    8.8  1.0  13.3           ZylsBr00  382.0   \n",
      "3     16    2.0    1  ...   0   11.5  0.1   1.4           ZylsBr00  425.0   \n",
      "5     17   61.0   40  ...   3    8.7  2.4  31.4           ZaccOl01  257.0   \n",
      "...   ..    ...  ...  ...  ..    ...  ...   ...                ...    ...   \n",
      "2057  15  169.0  111  ...  13    8.2  7.4  92.4           AdamDa01  392.0   \n",
      "2058  14  117.0   74  ...  10    7.6  5.3  63.2           AdamDa01  352.0   \n",
      "2059  16  121.0   75  ...  12    8.2  4.7  62.3           AdamDa01  403.0   \n",
      "2060  13   94.0   50  ...   1    5.1  3.8  37.2           AdamDa01  348.0   \n",
      "2061  16   66.0   38  ...   3    6.8  2.4  27.9           AdamDa01  349.0   \n",
      "\n",
      "        Att   P_Yds  P_TD  Year  \n",
      "0     599.0  3239.0  14.0  2021  \n",
      "1     550.0  3888.0  16.0  2020  \n",
      "2     633.0  3650.0  17.0  2019  \n",
      "3     606.0  4036.0  30.0  2018  \n",
      "5     415.0  2699.0  17.0  2022  \n",
      "...     ...     ...   ...   ...  \n",
      "2057  640.0  4238.0  25.0  2018  \n",
      "2058  562.0  3167.0  25.0  2017  \n",
      "2059  620.0  4199.0  40.0  2016  \n",
      "2060  573.0  3503.0  31.0  2015  \n",
      "2061  536.0  4261.0  38.0  2014  \n",
      "\n",
      "[1206 rows x 23 columns]\n"
     ]
    }
   ],
   "source": [
    "print(stats)"
   ]
  },
  {
   "cell_type": "code",
   "execution_count": 163,
   "id": "25a8fbb1-0a94-4926-83ea-b3482c6de0f7",
   "metadata": {},
   "outputs": [],
   "source": [
    "stats.to_csv('Stats.csv')"
   ]
  },
  {
   "cell_type": "code",
   "execution_count": 164,
   "id": "09443c9a-0610-43c0-b25f-20e592f20722",
   "metadata": {},
   "outputs": [],
   "source": [
    "def next_stat(player):\n",
    "    player = player.sort_values('Year')\n",
    "    player['Next_Yds'] = player['Yds'].shift(-1)\n",
    "    return player\n",
    "    \n",
    "stats = stats.groupby('Player-additional', group_keys=False).apply(next_stat)"
   ]
  },
  {
   "cell_type": "code",
   "execution_count": 52,
   "id": "8190c933-13a2-46de-9004-ac838c1fe74c",
   "metadata": {},
   "outputs": [
    {
     "name": "stdout",
     "output_type": "stream",
     "text": [
      "                Player  Year   Yds  Next_Yds\n",
      "2061      DavanteAdams  2014   446     483.0\n",
      "2060      DavanteAdams  2015   483     997.0\n",
      "2059      DavanteAdams  2016   997     885.0\n",
      "2058      DavanteAdams  2017   885    1386.0\n",
      "2057      DavanteAdams  2018  1386     997.0\n",
      "...                ...   ...   ...       ...\n",
      "5     OlamideZaccheaus  2022   533       NaN\n",
      "3       BrandonZylstra  2018    23     106.0\n",
      "2       BrandonZylstra  2019   106      35.0\n",
      "1       BrandonZylstra  2020    35     250.0\n",
      "0       BrandonZylstra  2021   250       NaN\n",
      "\n",
      "[1206 rows x 4 columns]\n"
     ]
    }
   ],
   "source": [
    "print(stats[['Player','Year','Yds','Next_Yds']])"
   ]
  },
  {
   "cell_type": "code",
   "execution_count": 165,
   "id": "1f6d5778-0bd5-4902-bfc9-67affcdd568f",
   "metadata": {},
   "outputs": [],
   "source": [
    "stats_complete = stats.copy()\n",
    "stats = stats.dropna().copy()\n",
    "stats['Ctch%'] = stats['Ctch%'].str.replace('\\W','',regex = True)\n"
   ]
  },
  {
   "cell_type": "code",
   "execution_count": 166,
   "id": "c8652336-ec7a-437a-9625-252261edd06e",
   "metadata": {},
   "outputs": [],
   "source": [
    "from sklearn.linear_model import Ridge\n",
    "from sklearn.feature_selection import SequentialFeatureSelector\n",
    "from sklearn.model_selection import TimeSeriesSplit\n",
    "\n",
    "RR = Ridge(alpha = 3)\n",
    "split = TimeSeriesSplit(n_splits = 4)\n",
    "sfs = SequentialFeatureSelector(RR, n_features_to_select = 10, direction = 'backward', n_jobs = 4)\n",
    "\n"
   ]
  },
  {
   "cell_type": "code",
   "execution_count": 167,
   "id": "938524f7-b39f-4cbf-8579-17b2d04dd4d0",
   "metadata": {},
   "outputs": [],
   "source": [
    "remove = ['Player', 'Tm', 'Pos', 'Player-additional', 'Next_Yds', 'Year']\n",
    "params  = stats.columns[~stats.columns.isin(remove)]"
   ]
  },
  {
   "cell_type": "code",
   "execution_count": 168,
   "id": "b28be097-1368-4589-b7eb-28f589fa517b",
   "metadata": {},
   "outputs": [
    {
     "name": "stderr",
     "output_type": "stream",
     "text": [
      "C:\\Users\\ashwa\\AppData\\Local\\Temp\\ipykernel_44972\\2652201419.py:6: DeprecationWarning: In a future version, `df.iloc[:, i] = newvals` will attempt to set the values inplace instead of always setting a new array. To retain the old behavior, use either `df[df.columns[i]] = newvals` or, if columns are non-unique, `df.isetitem(i, newvals)`\n",
      "  stats.loc[:,params] = scale.fit_transform(stats[params])\n"
     ]
    }
   ],
   "source": [
    "from sklearn.preprocessing import MinMaxScaler\n",
    "\n",
    "\n",
    "\n",
    "scale = MinMaxScaler()\n",
    "stats.loc[:,params] = scale.fit_transform(stats[params])\n",
    "\n"
   ]
  },
  {
   "cell_type": "code",
   "execution_count": 169,
   "id": "b3bb97b8-46f6-47f6-8c39-874908cd1cc7",
   "metadata": {},
   "outputs": [
    {
     "data": {
      "text/html": [
       "<style>#sk-container-id-3 {color: black;}#sk-container-id-3 pre{padding: 0;}#sk-container-id-3 div.sk-toggleable {background-color: white;}#sk-container-id-3 label.sk-toggleable__label {cursor: pointer;display: block;width: 100%;margin-bottom: 0;padding: 0.3em;box-sizing: border-box;text-align: center;}#sk-container-id-3 label.sk-toggleable__label-arrow:before {content: \"▸\";float: left;margin-right: 0.25em;color: #696969;}#sk-container-id-3 label.sk-toggleable__label-arrow:hover:before {color: black;}#sk-container-id-3 div.sk-estimator:hover label.sk-toggleable__label-arrow:before {color: black;}#sk-container-id-3 div.sk-toggleable__content {max-height: 0;max-width: 0;overflow: hidden;text-align: left;background-color: #f0f8ff;}#sk-container-id-3 div.sk-toggleable__content pre {margin: 0.2em;color: black;border-radius: 0.25em;background-color: #f0f8ff;}#sk-container-id-3 input.sk-toggleable__control:checked~div.sk-toggleable__content {max-height: 200px;max-width: 100%;overflow: auto;}#sk-container-id-3 input.sk-toggleable__control:checked~label.sk-toggleable__label-arrow:before {content: \"▾\";}#sk-container-id-3 div.sk-estimator input.sk-toggleable__control:checked~label.sk-toggleable__label {background-color: #d4ebff;}#sk-container-id-3 div.sk-label input.sk-toggleable__control:checked~label.sk-toggleable__label {background-color: #d4ebff;}#sk-container-id-3 input.sk-hidden--visually {border: 0;clip: rect(1px 1px 1px 1px);clip: rect(1px, 1px, 1px, 1px);height: 1px;margin: -1px;overflow: hidden;padding: 0;position: absolute;width: 1px;}#sk-container-id-3 div.sk-estimator {font-family: monospace;background-color: #f0f8ff;border: 1px dotted black;border-radius: 0.25em;box-sizing: border-box;margin-bottom: 0.5em;}#sk-container-id-3 div.sk-estimator:hover {background-color: #d4ebff;}#sk-container-id-3 div.sk-parallel-item::after {content: \"\";width: 100%;border-bottom: 1px solid gray;flex-grow: 1;}#sk-container-id-3 div.sk-label:hover label.sk-toggleable__label {background-color: #d4ebff;}#sk-container-id-3 div.sk-serial::before {content: \"\";position: absolute;border-left: 1px solid gray;box-sizing: border-box;top: 0;bottom: 0;left: 50%;z-index: 0;}#sk-container-id-3 div.sk-serial {display: flex;flex-direction: column;align-items: center;background-color: white;padding-right: 0.2em;padding-left: 0.2em;position: relative;}#sk-container-id-3 div.sk-item {position: relative;z-index: 1;}#sk-container-id-3 div.sk-parallel {display: flex;align-items: stretch;justify-content: center;background-color: white;position: relative;}#sk-container-id-3 div.sk-item::before, #sk-container-id-3 div.sk-parallel-item::before {content: \"\";position: absolute;border-left: 1px solid gray;box-sizing: border-box;top: 0;bottom: 0;left: 50%;z-index: -1;}#sk-container-id-3 div.sk-parallel-item {display: flex;flex-direction: column;z-index: 1;position: relative;background-color: white;}#sk-container-id-3 div.sk-parallel-item:first-child::after {align-self: flex-end;width: 50%;}#sk-container-id-3 div.sk-parallel-item:last-child::after {align-self: flex-start;width: 50%;}#sk-container-id-3 div.sk-parallel-item:only-child::after {width: 0;}#sk-container-id-3 div.sk-dashed-wrapped {border: 1px dashed gray;margin: 0 0.4em 0.5em 0.4em;box-sizing: border-box;padding-bottom: 0.4em;background-color: white;}#sk-container-id-3 div.sk-label label {font-family: monospace;font-weight: bold;display: inline-block;line-height: 1.2em;}#sk-container-id-3 div.sk-label-container {text-align: center;}#sk-container-id-3 div.sk-container {/* jupyter's `normalize.less` sets `[hidden] { display: none; }` but bootstrap.min.css set `[hidden] { display: none !important; }` so we also need the `!important` here to be able to override the default hidden behavior on the sphinx rendered scikit-learn.org. See: https://github.com/scikit-learn/scikit-learn/issues/21755 */display: inline-block !important;position: relative;}#sk-container-id-3 div.sk-text-repr-fallback {display: none;}</style><div id=\"sk-container-id-3\" class=\"sk-top-container\"><div class=\"sk-text-repr-fallback\"><pre>SequentialFeatureSelector(direction=&#x27;backward&#x27;, estimator=Ridge(alpha=3),\n",
       "                          n_features_to_select=10, n_jobs=4)</pre><b>In a Jupyter environment, please rerun this cell to show the HTML representation or trust the notebook. <br />On GitHub, the HTML representation is unable to render, please try loading this page with nbviewer.org.</b></div><div class=\"sk-container\" hidden><div class=\"sk-item sk-dashed-wrapped\"><div class=\"sk-label-container\"><div class=\"sk-label sk-toggleable\"><input class=\"sk-toggleable__control sk-hidden--visually\" id=\"sk-estimator-id-7\" type=\"checkbox\" ><label for=\"sk-estimator-id-7\" class=\"sk-toggleable__label sk-toggleable__label-arrow\">SequentialFeatureSelector</label><div class=\"sk-toggleable__content\"><pre>SequentialFeatureSelector(direction=&#x27;backward&#x27;, estimator=Ridge(alpha=3),\n",
       "                          n_features_to_select=10, n_jobs=4)</pre></div></div></div><div class=\"sk-parallel\"><div class=\"sk-parallel-item\"><div class=\"sk-item\"><div class=\"sk-label-container\"><div class=\"sk-label sk-toggleable\"><input class=\"sk-toggleable__control sk-hidden--visually\" id=\"sk-estimator-id-8\" type=\"checkbox\" ><label for=\"sk-estimator-id-8\" class=\"sk-toggleable__label sk-toggleable__label-arrow\">estimator: Ridge</label><div class=\"sk-toggleable__content\"><pre>Ridge(alpha=3)</pre></div></div></div><div class=\"sk-serial\"><div class=\"sk-item\"><div class=\"sk-estimator sk-toggleable\"><input class=\"sk-toggleable__control sk-hidden--visually\" id=\"sk-estimator-id-9\" type=\"checkbox\" ><label for=\"sk-estimator-id-9\" class=\"sk-toggleable__label sk-toggleable__label-arrow\">Ridge</label><div class=\"sk-toggleable__content\"><pre>Ridge(alpha=3)</pre></div></div></div></div></div></div></div></div></div></div>"
      ],
      "text/plain": [
       "SequentialFeatureSelector(direction='backward', estimator=Ridge(alpha=3),\n",
       "                          n_features_to_select=10, n_jobs=4)"
      ]
     },
     "execution_count": 169,
     "metadata": {},
     "output_type": "execute_result"
    }
   ],
   "source": [
    "sfs.fit(stats[params], stats['Next_Yds'])"
   ]
  },
  {
   "cell_type": "code",
   "execution_count": 170,
   "id": "a4ddb332-7a01-4d63-88c3-60057210985c",
   "metadata": {},
   "outputs": [
    {
     "name": "stdout",
     "output_type": "stream",
     "text": [
      "['Age', 'Ctch%', 'Yds', 'TD', 'Y/Tgt', 'R/G', 'Y/G', 'Cmp', 'Att', 'P_Yds']\n",
      "                Player   Tm       Age Pos       G       Tgt       Rec  \\\n",
      "1205      DavanteAdams  GNB  0.066667  WR  0.9375  0.321782  0.250000   \n",
      "1204      DavanteAdams  GNB  0.133333  WR  0.7500  0.460396  0.331081   \n",
      "1203      DavanteAdams  GNB  0.200000  WR  0.9375  0.594059  0.500000   \n",
      "1202      DavanteAdams  GNB  0.266667  WR  0.8125  0.574257  0.493243   \n",
      "1201      DavanteAdams  GNB  0.333333  WR  0.8750  0.831683  0.743243   \n",
      "...                ...  ...       ...  ..     ...       ...       ...   \n",
      "6     OlamideZaccheaus  ATL  0.133333  WR  0.6250  0.153465  0.128378   \n",
      "5     OlamideZaccheaus  ATL  0.200000  WR  1.0000  0.257426  0.202703   \n",
      "3       BrandonZylstra  MIN  0.266667  WR  0.9375  0.004950  0.000000   \n",
      "2       BrandonZylstra  CAR  0.333333  WR  0.4375  0.054455  0.047297   \n",
      "1       BrandonZylstra  CAR  0.400000  WR  0.9375  0.014851  0.013514   \n",
      "\n",
      "         Ctch%       Yds       Y/R  ...     Y/Tgt       R/G       Y/G  \\\n",
      "1205  0.523060  0.227483  0.207143  ...  0.139896  0.250000  0.234642   \n",
      "1204  0.473566  0.246526  0.159524  ...  0.095855  0.402174  0.313993   \n",
      "1203  0.572553  0.511065  0.245238  ...  0.176166  0.500000  0.528157   \n",
      "1202  0.586052  0.453423  0.214286  ...  0.160622  0.565217  0.535836   \n",
      "1201  0.614173  0.711271  0.226190  ...  0.176166  0.793478  0.784983   \n",
      "...        ...       ...       ...  ...       ...       ...       ...   \n",
      "6     0.578178  0.138960  0.254762  ...  0.186528  0.184783  0.209044   \n",
      "5     0.533183  0.206897  0.240476  ...  0.163212  0.184783  0.200512   \n",
      "3     0.437570  0.009779  0.476190  ...  0.261658  0.000000  0.008532   \n",
      "2     0.625422  0.052496  0.245238  ...  0.191710  0.097826  0.110068   \n",
      "1     0.718785  0.015955  0.207143  ...  0.191710  0.010870  0.015358   \n",
      "\n",
      "      Player-additional       Cmp       Att     P_Yds      P_TD  Year  \\\n",
      "1205           AdamDa01  0.423387  0.400000  0.595002  0.613636  2014   \n",
      "1204           AdamDa01  0.419355  0.513846  0.335502  0.454545  2015   \n",
      "1203           AdamDa01  0.641129  0.658462  0.573776  0.659091  2016   \n",
      "1202           AdamDa01  0.435484  0.480000  0.220472  0.318182  2017   \n",
      "1201           AdamDa01  0.596774  0.720000  0.587128  0.318182  2018   \n",
      "...                 ...       ...       ...       ...       ...   ...   \n",
      "6              ZaccOl01  0.661290  0.683077  0.629921  0.363636  2020   \n",
      "5              ZaccOl01  0.536290  0.513846  0.407395  0.204545  2021   \n",
      "3              ZylsBr00  0.729839  0.615385  0.517973  0.431818  2018   \n",
      "2              ZylsBr00  0.556452  0.698462  0.385827  0.136364  2019   \n",
      "1              ZylsBr00  0.520161  0.443077  0.467306  0.113636  2020   \n",
      "\n",
      "      Next_Yds  \n",
      "1205     483.0  \n",
      "1204     997.0  \n",
      "1203     885.0  \n",
      "1202    1386.0  \n",
      "1201     997.0  \n",
      "...        ...  \n",
      "6        406.0  \n",
      "5        533.0  \n",
      "3        106.0  \n",
      "2         35.0  \n",
      "1        250.0  \n",
      "\n",
      "[993 rows x 21 columns]\n"
     ]
    }
   ],
   "source": [
    "pred = list(params[sfs.get_support()])\n",
    "print(pred)\n",
    "print(stats)"
   ]
  },
  {
   "cell_type": "code",
   "execution_count": 171,
   "id": "37aea16c-dcb9-4e02-81d6-9990667ea270",
   "metadata": {},
   "outputs": [],
   "source": [
    "def backtest(data, model, predictors, start = 4, step = 1):\n",
    "    final_prediction = []\n",
    "    years = sorted(data['Year'].unique())\n",
    "    for i in  range(start,len(years),step):\n",
    "        curr = years[i]\n",
    "        train = data[data['Year'] < curr]\n",
    "        test = data[data['Year'] == curr]\n",
    "        model.fit(train[predictors], train['Next_Yds'])\n",
    "        prediction = model.predict(test[predictors])\n",
    "        prediction = pd.Series(prediction, index=test.index)\n",
    "        compare = pd.concat([test['Next_Yds'], prediction], axis=1)\n",
    "        compare.columns = ['Actual', 'Prediction']\n",
    "        final_prediction.append(compare)\n",
    "    return pd.concat(final_prediction)    \n",
    "        \n",
    "    "
   ]
  },
  {
   "cell_type": "code",
   "execution_count": 172,
   "id": "a6238dcb-0a19-4879-b19b-3336b38ba69d",
   "metadata": {},
   "outputs": [],
   "source": [
    "new_pred = backtest(stats,RR,pred)"
   ]
  },
  {
   "cell_type": "code",
   "execution_count": 173,
   "id": "240f2f3e-7ead-4cad-bd4a-7924047c5391",
   "metadata": {},
   "outputs": [
    {
     "name": "stdout",
     "output_type": "stream",
     "text": [
      "      Actual   Prediction\n",
      "1202  1386.0   831.665330\n",
      "1194   736.0   705.101145\n",
      "1185    53.0   235.039593\n",
      "1179  1196.0  1046.055701\n",
      "1172   303.0   331.192940\n",
      "...      ...          ...\n",
      "68      74.0   128.286261\n",
      "62     895.0   853.527088\n",
      "35     136.0   521.671878\n",
      "21     527.0   633.622177\n",
      "5      533.0   412.332029\n",
      "\n",
      "[587 rows x 2 columns]\n"
     ]
    }
   ],
   "source": [
    "print(new_pred)"
   ]
  },
  {
   "cell_type": "code",
   "execution_count": 174,
   "id": "9e822da5-6b0b-4e06-8eb1-911f0e6f94de",
   "metadata": {},
   "outputs": [
    {
     "data": {
      "text/plain": [
       "84485.39312816794"
      ]
     },
     "execution_count": 174,
     "metadata": {},
     "output_type": "execute_result"
    }
   ],
   "source": [
    "from sklearn.metrics import mean_squared_error\n",
    "\n",
    "mean_squared_error(new_pred['Actual'], new_pred['Prediction'])\n"
   ]
  },
  {
   "cell_type": "code",
   "execution_count": 175,
   "id": "1d4438bb-475f-4bf4-9220-2a1df495b3a5",
   "metadata": {},
   "outputs": [
    {
     "data": {
      "text/plain": [
       "count     993.000000\n",
       "mean      529.619335\n",
       "std       405.262875\n",
       "min        -4.000000\n",
       "25%       185.000000\n",
       "50%       451.000000\n",
       "75%       804.000000\n",
       "max      1947.000000\n",
       "Name: Next_Yds, dtype: float64"
      ]
     },
     "execution_count": 175,
     "metadata": {},
     "output_type": "execute_result"
    }
   ],
   "source": [
    "stats['Next_Yds'].describe()"
   ]
  },
  {
   "cell_type": "code",
   "execution_count": 176,
   "id": "61a1fee2-5b22-49d5-b3a2-6638cc59eae5",
   "metadata": {},
   "outputs": [],
   "source": [
    "def player_past(data):\n",
    "    data.sort_values('Year')\n",
    "\n",
    "    data['Season'] = range(0,data.shape[0])\n",
    "    data['Yd_corr'] = list(data[['Season','Yds']].expanding().corr().loc[(slice(None),'Season'),'Yds'])\n",
    "    data['Yd_corr'].fillna(1, inplace = True)\n",
    "    data['Yd_diff'] = data['Yds']/data['Yds'].shift(1)\n",
    "    data['Yd_diff'].fillna(1, inplace = True)\n",
    "    data['Yd_diff'][data['Yd_diff'] == np.inf] = 1\n",
    "\n",
    "    return data\n",
    "stats = stats.groupby('Player-additional', group_keys= False).apply(player_past)\n",
    "\n",
    "    "
   ]
  },
  {
   "cell_type": "code",
   "execution_count": 177,
   "id": "320b02db-680b-4459-a426-5ddcbd381559",
   "metadata": {},
   "outputs": [],
   "source": [
    "def season_avg(data):\n",
    "    return data['Yds']/data['Yds'].mean()\n",
    "\n",
    "stats['Yds_season'] = stats.groupby('Year', group_keys = False).apply(season_avg)"
   ]
  },
  {
   "cell_type": "code",
   "execution_count": 178,
   "id": "117946d1-5675-451b-8dc2-90e7998d0f70",
   "metadata": {},
   "outputs": [
    {
     "name": "stdout",
     "output_type": "stream",
     "text": [
      "1205    1.000000\n",
      "1204    1.000000\n",
      "1203    0.894495\n",
      "1202    0.846364\n",
      "1201    0.925874\n",
      "          ...   \n",
      "6       1.000000\n",
      "5       0.998568\n",
      "3       1.000000\n",
      "2       1.000000\n",
      "1       0.133752\n",
      "Name: Yd_corr, Length: 993, dtype: float64\n"
     ]
    }
   ],
   "source": [
    "print(stats['Yd_corr'])"
   ]
  },
  {
   "cell_type": "code",
   "execution_count": 179,
   "id": "b8eb516c-b432-4111-8661-5ce409b83869",
   "metadata": {},
   "outputs": [],
   "source": [
    "updated_predictors = pred + ['Yds_season','Yd_diff','Yd_corr', 'Season']\n",
    "updated_predictions = backtest(stats,RR,updated_predictors)"
   ]
  },
  {
   "cell_type": "code",
   "execution_count": 180,
   "id": "a50bfcdd-0b27-4370-80c1-98a824aed52f",
   "metadata": {},
   "outputs": [
    {
     "name": "stdout",
     "output_type": "stream",
     "text": [
      "      Actual  Prediction\n",
      "1202  1386.0  781.893371\n",
      "1194   736.0  694.889059\n",
      "1185    53.0  182.993404\n",
      "1179  1196.0  964.466995\n",
      "1172   303.0  346.369640\n",
      "...      ...         ...\n",
      "68      74.0  117.102343\n",
      "62     895.0  838.077971\n",
      "35     136.0  530.900255\n",
      "21     527.0  468.790447\n",
      "5      533.0  395.815466\n",
      "\n",
      "[587 rows x 2 columns]\n"
     ]
    }
   ],
   "source": [
    "print(updated_predictions)"
   ]
  },
  {
   "cell_type": "code",
   "execution_count": 181,
   "id": "c9327566-14e3-456b-beb1-9d5798f9aa1a",
   "metadata": {},
   "outputs": [
    {
     "data": {
      "text/plain": [
       "84639.41608911063"
      ]
     },
     "execution_count": 181,
     "metadata": {},
     "output_type": "execute_result"
    }
   ],
   "source": [
    "mean_squared_error(updated_predictions['Actual'], updated_predictions['Prediction'])"
   ]
  },
  {
   "cell_type": "code",
   "execution_count": 183,
   "id": "beebcdd9-79c0-4fd7-9cf3-0bc6c51f346c",
   "metadata": {},
   "outputs": [],
   "source": [
    "stats = pd.concat([stats, updated_predictions], axis=1)"
   ]
  },
  {
   "cell_type": "code",
   "execution_count": 184,
   "id": "f5589127-3f61-413a-8ed4-6b0fee562c82",
   "metadata": {},
   "outputs": [],
   "source": [
    "stats.to_csv('Results.csv')"
   ]
  },
  {
   "cell_type": "code",
   "execution_count": 185,
   "id": "0496f1a8-6500-4127-8c18-bcc913ddcb55",
   "metadata": {},
   "outputs": [
    {
     "data": {
      "text/plain": [
       "290.928541207477"
      ]
     },
     "execution_count": 185,
     "metadata": {},
     "output_type": "execute_result"
    }
   ],
   "source": [
    "84639.41608911063 ** 0.5"
   ]
  },
  {
   "cell_type": "code",
   "execution_count": null,
   "id": "ace2777d-e448-46be-a58e-f9b0c8c20600",
   "metadata": {},
   "outputs": [],
   "source": []
  }
 ],
 "metadata": {
  "kernelspec": {
   "display_name": "Python 3 (ipykernel)",
   "language": "python",
   "name": "python3"
  },
  "language_info": {
   "codemirror_mode": {
    "name": "ipython",
    "version": 3
   },
   "file_extension": ".py",
   "mimetype": "text/x-python",
   "name": "python",
   "nbconvert_exporter": "python",
   "pygments_lexer": "ipython3",
   "version": "3.11.0"
  }
 },
 "nbformat": 4,
 "nbformat_minor": 5
}
